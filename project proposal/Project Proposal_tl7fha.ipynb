{
 "cells": [
  {
   "cell_type": "markdown",
   "metadata": {
    "pycharm": {
     "name": "#%% md\n"
    }
   },
   "source": [
    "Problem title:   \n",
    "Demand-side Management of Smart Appliance Based on Optimization Prediction Tools\n",
    "\n",
    "The source of data:  \n",
    "https://www.nyiso.com/  \n",
    "\n",
    "Data we have:  \n",
    "Forecast electricity price data: every hour's LBMP based on forecast everyday(locational based marginal pricing) .   \n",
    "Historic real-time electricity price data: real-world recorded LBMP every 5 minutes everyday(continuously updating to today).\n",
    "\n",
    "Background:   \n",
    "Demand-side management is one the approach that can be applied to save the cost of energy for both individual's and world's benefit.  \n",
    "If we can allocate electricity to smart appliance according to current flowing price, we can make great benefits.  \n",
    "In this scenario, we will be using the forecast electricity price data as our basis to predict the realized price. We will use historic real-time and forecast price data to generalize a model that can fit both data. Then we can predict the realized price one-day ahead according to the day-ahead predicted data. The result of the real-time updated data will be used to refine the model.  \n",
    "Based on that predicted realized price value and the given working hour range, we can find the optimal working time for the smart appliance.\n",
    "\n",
    "The decision problem:  \n",
    "The decision-maker should be the smart appliance itself, to decide which time to start doing the job in order to get the lowest cost of electricity based on predicted realized LBMP.\n",
    " \n",
    "The decision maker's action set $\\mathbb{A}$:\n",
    "choose a starting working time (certain hour to start working) to complete the job.\n",
    "$a_h$: binary control variable; $a_h$=1 if choose to start working from hour h. 0 otherwise.   \n",
    "a=<$a_{H-L}$，...,$a_1$>: actions chosen on hours h= H-L,...,1  \n",
    "\n",
    "Data generating process——  \n",
    "parameters we will have here  \n",
    "H: length of the given working time range  \n",
    "L$\\le$H：working hours needed to complete the work  \n",
    "$h \\in$ (1 , H): index of total available working hours  \n",
    "$l \\in$ (1 , H-L): index of left available starting working hours  \n",
    "$X1_h$: variable indicating realized value of historic real-time electricity price.  \n",
    "$X2_h$: variable indicating realized value of historic predicted electricity price.  \n",
    "$Y2_h$: variable indicating realized value of day-ahead predicted electricity price.      \n",
    "$Y_h$: random state variable indicating realized value of electricity price.  \n",
    "Y=<$Y_H$，$Y_H-1$，...,$Y_1$>: price on hours h= H,...,1  \n",
    "We will use the historic data($X1_h$ and $X2_h$) collected from the website(both real-time price and predicted price) to build a linear model to make prediction about the realized price(get distribution of $Y_h$) distribution given new day-ahead predicted price($Y2_h$).     \n",
    "That is, given a new predicted price data by the website one day ahead, we will have a prediction about the distribution of the realized price.  \n",
    "historic real-time price($X1_h$) + historic predicted price($X2_h$) --> linear model and error distribution($X_2$= $β_0$ + $β_1$$X_1$ + Residuals) -->given the day-ahead predicted price($Y2_h$) --> predict the distribution of the realized price($Y_h$).   \n",
    "After getting the real-time day of the new day, we will fit it into the model to get better results for the future(make calibration).  \n",
    "We will use the mean value of every 5 minutes' real-time price to represent the real-time price. And to match it with the predicted every hour price in the same location to build the model.  \n",
    "\n",
    "The parameter space:\n",
    "The set of possible values for the unobserved parameter $\\theta$.  $\\theta,  \\sigma_1 \\in \\mathbb{R} X (0, \\infty)$.  \n",
    "In this case, we represent the randomness of unobserved thing as the error distribution of the linear model we build (the fluctuation of price). \n",
    "\n",
    "The decision-maker's prior beliefs:\n",
    "Generally speaking, all price data $X\\in$ (0 , 30), working length $L\\in$ (0 , 24) and L should be an integer. \n",
    "We will know about the working time of the appliance(needed time for working). And we will know the location and working time range.\n",
    "\n",
    "The process for getting better information:  \n",
    "We will use real-time price data to update(calibrate) our prediction model to make sure that we can have better price for this decision-making process to save money for the owners.\n",
    "We can approach optimal choice for the smart appliance to work step by step.\n",
    "\n",
    "Predicted tool: \n",
    "We need to find which $a_h=1$ can give the minimum cost of electricity in total for the work, \n",
    "That is $min_a$$\\sum_{h}^{h+L}$E[Y]\n",
    "\n",
    "The utility function: \n",
    "The utility function will be the sum of the product of action set A and price matrix X.\n",
    "Objective function= $\\sum_{h}^{h+L}$E[Y]\n",
    "\n",
    "The rule the decision-maker will use to choose a preferred action:  \n",
    "Set the working time range according to their preference."
   ]
  }
 ],
 "metadata": {
  "kernelspec": {
   "display_name": "Python 3",
   "language": "python",
   "name": "python3"
  },
  "language_info": {
   "codemirror_mode": {
    "name": "ipython",
    "version": 3
   },
   "file_extension": ".py",
   "mimetype": "text/x-python",
   "name": "python",
   "nbconvert_exporter": "python",
   "pygments_lexer": "ipython3",
   "version": "3.7.4"
  },
  "pycharm": {
   "stem_cell": {
    "cell_type": "raw",
    "source": [],
    "metadata": {
     "collapsed": false
    }
   }
  }
 },
 "nbformat": 4,
 "nbformat_minor": 1
}