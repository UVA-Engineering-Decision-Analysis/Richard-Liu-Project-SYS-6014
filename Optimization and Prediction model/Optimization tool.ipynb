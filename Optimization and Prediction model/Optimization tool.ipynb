{
 "cells": [
  {
   "cell_type": "code",
   "execution_count": 77,
   "metadata": {
    "collapsed": true,
    "pycharm": {
     "is_executing": false
    }
   },
   "outputs": [
    {
     "name": "stdout",
     "text": [
      "You are searching for the best start working hours on 20200316 in location CENTRL\n",
      "Working hours needed: 2 hours\n",
      "Start time range: 8, Finish time range: 12\n",
      "\n",
      "Based on prediction data by NYISO:\n",
      "If you start working at 8 o' clock, you need to pay 44.93 dollars\n",
      "If you start working at 9 o' clock, you need to pay 40.84 dollars\n",
      "If you start working at 10 o' clock, you need to pay 37.67 dollars\n",
      "Based on prediction data by NYISO, We will suggest start your work at 10 o' clock\n",
      "\n",
      "Based on realtime price:\n",
      "If you start working at 8 o' clock, you need to pay 33.0 dollars\n",
      "If you start working at 9 o' clock, you need to pay 32.22 dollars\n",
      "If you start working at 10 o' clock, you need to pay 32.32 dollars\n",
      "The average cost of randomly choosing a time to start working is: 32.51333333333333 dollars\n",
      "The cost of using our suggestion is: 32.32 dollars\n",
      "By using our suggestion, from expectation value of our electricity cost. We can save: 0.19333333333332803 dollars in total\n",
      "\n",
      "The cost of best possible choice in the real-world: 32.22 dollars\n",
      "We can still improve our predictive tool to save more dollars of $0.10000000000000142\n"
     ],
     "output_type": "stream"
    }
   ],
   "source": [
    "import pandas as pd\n",
    "import os\n",
    "import numpy as np\n",
    "\n",
    "Date=input(\"Input Date you want to choose, e.g 20200203 -- Feburary 3rd:\")\n",
    "Location=input(\"Input the number for Location you want to choose, e.g 1-CAPITL:\")\n",
    "\"\"\"\n",
    "1-CAPITL\n",
    "2-CENTRL\n",
    "3-DUNWOD\n",
    "4-GENESE\n",
    "5-H Q\n",
    "6-HUD VL\n",
    "7-LONGIL\n",
    "8-MHK VL\n",
    "9-MILLWD\n",
    "10-N.Y.C.\n",
    "11-NORTH\n",
    "12-NPX\n",
    "13-O H\n",
    "14-PJM\n",
    "15-WEST\n",
    "\"\"\"\n",
    "Workinghours=input(\"Input working hours for smart appliance to complete job, e.g 2- 2 hours for working\")\n",
    "StartRange=input(\"Input starting working time range, e.g 8 -- 8:00 am\")\n",
    "FinishRange=input(\"Input finishing working time range, e.g 16 -- 4:00 pm\")\n",
    "Range=int(FinishRange)-int(StartRange)\n",
    "\n",
    "if (Range<int(Workinghours)):\n",
    "    print(\"Please check the time range can satisfy your working hours\")\n",
    "else:\n",
    "    if (Range==int(Workinghours)):\n",
    "        print(\"The starting working range you input is your start working time\")\n",
    "    \n",
    "    readpath=\"C:/Users/hebin/OneDrive/predicted/\"+Date+\"damlbmp_zone\"+\".csv\"\n",
    "    data=pd.read_csv(readpath)\n",
    "    list=data.values.tolist()\n",
    "    \n",
    "    print(\"You are searching for the best start working hours on \"+Date+\" in location \"+list[int(Location)-1][1])\n",
    "    print(\"Working hours needed: \"+Workinghours+\" hours\")\n",
    "    print(\"Start time range: \"+StartRange+\", Finish time range: \"+FinishRange)\n",
    "    \n",
    "    print()\n",
    "    print(\"Based on prediction data by NYISO:\")\n",
    "    \n",
    "    t=0\n",
    "    sumlist=np.zeros((Range-int(Workinghours)+1),dtype=float)\n",
    "    optimal=10000\n",
    "    s=0\n",
    "    \n",
    "    for i in range(int(StartRange),int(StartRange)+Range-int(Workinghours)+1):\n",
    "        for j in range(i,i+int(Workinghours)):\n",
    "            n=j*15+int(Location)-1\n",
    "            sumlist[t]+=list[n][3]\n",
    "        print(\"If you start working at \"+str(t+int(StartRange))+\" o' clock, you need to pay \"+ str(sumlist[t])+\" dollars\")\n",
    "        if (sumlist[t]<optimal):\n",
    "            optimal=sumlist[t]\n",
    "            s=t+int(StartRange)\n",
    "        t=t+1\n",
    "    print(\"Based on prediction data by NYISO, We will suggest start your work at \"+str(s)+\" o' clock\")\n",
    "    \n",
    "          \n",
    "    readpath2=\"C:/Users/hebin/OneDrive/realtime/\"+Date+\"realtime_zone\"+\".csv\"\n",
    "    data2=pd.read_csv(readpath2)\n",
    "    list2=data2.values.tolist()\n",
    "    \n",
    "    print()\n",
    "    print(\"Based on realtime price:\")\n",
    "    \n",
    "    t2=0\n",
    "    sumlist2=np.zeros((Range-int(Workinghours)+1),dtype=float)\n",
    "    optimal2=10000\n",
    "    s2=0\n",
    "    for i in range(int(StartRange),int(StartRange)+Range-int(Workinghours)+1):\n",
    "        for j in range(i,i+int(Workinghours)):\n",
    "            n2=j*15+int(Location)-1\n",
    "            sumlist2[t2]+=list2[n2][3]\n",
    "        print(\"If you start working at \"+str(t2+int(StartRange))+\" o' clock, you need to pay \"+ str(sumlist2[t2])+\" dollars\")\n",
    "        if (sumlist2[t2]<optimal2):\n",
    "            optimal2=sumlist2[t2]\n",
    "            s2=t2+int(StartRange)\n",
    "        t2=t2+1\n",
    "    aver=np.average(sumlist2)\n",
    "    min=np.min(sumlist2)\n",
    "    save1=aver-sumlist2[s-int(StartRange)]\n",
    "    print(\"The average cost of randomly choosing a time to start working is: \"+str(aver)+\" dollars\")\n",
    "    print(\"The cost of using our suggestion is: \"+str(sumlist2[s-int(StartRange)])+\" dollars\")\n",
    "    print(\"By using our suggestion, from expectation value of our electricity cost. We can save: \"+str(save1)+\" dollars in total\")\n",
    "    print()\n",
    "    print(\"The cost of best possible choice in the real-world: \"+str(min)+\" dollars\")\n",
    "    print(\"We can still improve our predictive tool to save more dollars of $\"+str(sumlist2[s-int(StartRange)]-min))"
   ]
  },
  {
   "cell_type": "code",
   "execution_count": 77,
   "outputs": [],
   "source": [
    "\n"
   ],
   "metadata": {
    "collapsed": false,
    "pycharm": {
     "name": "#%%\n",
     "is_executing": false
    }
   }
  }
 ],
 "metadata": {
  "kernelspec": {
   "display_name": "Python 3",
   "language": "python",
   "name": "python3"
  },
  "language_info": {
   "codemirror_mode": {
    "name": "ipython",
    "version": 2
   },
   "file_extension": ".py",
   "mimetype": "text/x-python",
   "name": "python",
   "nbconvert_exporter": "python",
   "pygments_lexer": "ipython2",
   "version": "2.7.6"
  },
  "pycharm": {
   "stem_cell": {
    "cell_type": "raw",
    "source": [],
    "metadata": {
     "collapsed": false
    }
   }
  }
 },
 "nbformat": 4,
 "nbformat_minor": 0
}